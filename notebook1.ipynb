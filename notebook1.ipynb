{
  "nbformat": 4,
  "nbformat_minor": 0,
  "metadata": {
    "colab": {
      "provenance": [],
      "toc_visible": true,
      "include_colab_link": true
    },
    "kernelspec": {
      "name": "python3",
      "display_name": "Python 3"
    },
    "language_info": {
      "name": "python"
    }
  },
  "cells": [
    {
      "cell_type": "markdown",
      "metadata": {
        "id": "view-in-github",
        "colab_type": "text"
      },
      "source": [
        "<a href=\"https://colab.research.google.com/github/ruang-belajar/notebook-statistik-2-DecilM/blob/main/notebook1.ipynb\" target=\"_parent\"><img src=\"https://colab.research.google.com/assets/colab-badge.svg\" alt=\"Open In Colab\"/></a>"
      ]
    },
    {
      "cell_type": "markdown",
      "source": [
        "# Tugas Statistik 2 Data Kebakaran\n",
        "* Nama : Decil Marchio\n",
        "* NIM :  22010014"
      ],
      "metadata": {
        "id": "SOTwCKLPjXe4"
      }
    },
    {
      "cell_type": "code",
      "execution_count": null,
      "metadata": {
        "id": "MFCMGmiLjN-4"
      },
      "outputs": [],
      "source": [
        "\n",
        "# PERSIAPAN DATA\n",
        "\n",
        "# download file contoh csv\n",
        "!wget https://raw.githubusercontent.com/ruang-belajar/python/master/notebook/data/2013-data-kebakaran.csv -O data-kebakaran.csv\n",
        "\n",
        "\n",
        "import pandas as pd\n",
        "\n",
        "# load data ke dataframe (df)\n",
        "df = pd.read_csv(\"data-kebakaran.csv\")\n",
        "df.head()\n"
      ]
    },
    {
      "cell_type": "markdown",
      "source": [
        "Menampilkan semua kejadian kebakaran yang terjadi pada bulan Maret."
      ],
      "metadata": {
        "id": "jhDMX8IPYblr"
      }
    },
    {
      "cell_type": "code",
      "source": [
        "print (\" 1. Filter kejadian kebakaran yang terjadi di bulan Maret: \")\n",
        "kebakaran_maret = df[df['tanggal'].apply(lambda x: pd.to_datetime(x).month == 3)]\n",
        "print(kebakaran_maret)\n",
        "print()"
      ],
      "metadata": {
        "id": "ZSqQYcMuYh7R"
      },
      "execution_count": null,
      "outputs": []
    },
    {
      "cell_type": "markdown",
      "source": [
        "Menampilkan semua kejadian kebakaran yang memiliki nilai kerugian antara 50 juta hingga 100 juta."
      ],
      "metadata": {
        "id": "kboIboEVYojr"
      }
    },
    {
      "cell_type": "code",
      "source": [
        "print (\" 2. Filter kejadian kebakaran yang nilai kerugiannya antara 50jt sampai 100jt: \")\n",
        "kebakaran_50_100jt = df[(df['kerugian'] >= 50000000) & (df['kerugian'] <= 100000000)]\n",
        "print(kebakaran_50_100jt)\n",
        "print()"
      ],
      "metadata": {
        "id": "JemqGApnYzHE"
      },
      "execution_count": null,
      "outputs": []
    },
    {
      "cell_type": "markdown",
      "source": [
        "Menampilkan 5 kejadian kebakaran dengan tingkat kerugian paling besar."
      ],
      "metadata": {
        "id": "jrJSKY-nY3hE"
      }
    },
    {
      "cell_type": "code",
      "source": [
        "print (\"3. Tampilkan/Filter 5 kejadian yang tingkat kerugiannya paling besar :\")\n",
        "kebakaran_top5 = df.nlargest(5, 'kerugian')\n",
        "print(kebakaran_top5)\n",
        "print()"
      ],
      "metadata": {
        "id": "nRKNVOuKY_US"
      },
      "execution_count": null,
      "outputs": []
    },
    {
      "cell_type": "markdown",
      "source": [
        "Menghitung jumlah kejadian kebakaran per bulan menggunakan GROUP BY dan COUNT."
      ],
      "metadata": {
        "id": "5aQqwX67ZDMg"
      }
    },
    {
      "cell_type": "code",
      "source": [
        "print (\" 4. Menggunakan groupby dan count, hitung banyaknya kejadian kebakaran per bulan:\")\n",
        "jumlah_kejadian_per_bulan = df.groupby(df['tanggal'].apply(lambda x: pd.to_datetime(x).month)).size().reset_index(name='jumlah_kejadian')\n",
        "print(jumlah_kejadian_per_bulan)\n",
        "print()"
      ],
      "metadata": {
        "id": "hmMO1HF1ZJIY"
      },
      "execution_count": null,
      "outputs": []
    },
    {
      "cell_type": "markdown",
      "source": [
        "Menghitung total kerugian akibat kebakaran per bulan menggunakan GROUP BY dan SUM."
      ],
      "metadata": {
        "id": "joB3swoxZNiH"
      }
    },
    {
      "cell_type": "code",
      "source": [
        "print(\"5. Menggunakan groupby dan sum, hitung jumlah kerugian akibat kebakaran per bulan:\")\n",
        "total_kerugian_per_bulan = df.groupby(df['tanggal'].apply(lambda x: pd.to_datetime(x).month))['kerugian'].sum().reset_index(name='total_kerugian')\n",
        "print(total_kerugian_per_bulan)\n",
        "print()"
      ],
      "metadata": {
        "id": "OUwGPeVzZSA3"
      },
      "execution_count": null,
      "outputs": []
    },
    {
      "cell_type": "markdown",
      "source": [
        "Menghitung rata-rata kerugian akibat kebakaran per bulan menggunakan GROUP BY dan MEAN."
      ],
      "metadata": {
        "id": "9_OgWm3oZWHf"
      }
    },
    {
      "cell_type": "code",
      "source": [
        "print(\"6. Menggunakan groupby dan mean, hitung rata-rata kerugian akibat kebakaran per bulan:\")\n",
        "rata_rata_kerugian_per_bulan = df.groupby(df['tanggal'].apply(lambda x: pd.to_datetime(x).month))['kerugian'].mean().reset_index(name='rata_rata_kerugian')\n",
        "print(rata_rata_kerugian_per_bulan)\n",
        "print()"
      ],
      "metadata": {
        "id": "5lLEOYJVZdja"
      },
      "execution_count": null,
      "outputs": []
    },
    {
      "cell_type": "markdown",
      "source": [
        "Menghitung jumlah kejadian kebakaran yang disebabkan oleh listrik per bulan."
      ],
      "metadata": {
        "id": "lio1EBWxZg8x"
      }
    },
    {
      "cell_type": "code",
      "source": [
        "print(\"7. Hitung banyaknya kejadian kebakaran yang disebabkan Listrik per bulan:\")\n",
        "kebakaran_listrik_per_bulan = df[df['penyebab'] == 'Listrik'].groupby(df['tanggal'].apply(lambda x: pd.to_datetime(x).month)).size().reset_index(name='jumlah_kejadian_listrik')\n",
        "print(kebakaran_listrik_per_bulan)\n",
        "print()"
      ],
      "metadata": {
        "id": "A5MQ_6riZmZs"
      },
      "execution_count": null,
      "outputs": []
    },
    {
      "cell_type": "markdown",
      "source": [
        "Menghitung jumlah kerugian akibat kebakaran yang terjadi di Kelurahan Kemayoran."
      ],
      "metadata": {
        "id": "veqadpAdZpya"
      }
    },
    {
      "cell_type": "code",
      "source": [
        "print(\"8. Hitung jumlah kerugian akibat kebakaran yang terjadi di kelurahan Kemayoran:\")\n",
        "kerugian_kemayoran = df[df['kelurahan'] == 'Kemayoran']['kerugian'].sum()\n",
        "print(\"Jumlah kerugian akibat kebakaran di Kemayoran:\", kerugian_kemayoran)\n",
        "print()"
      ],
      "metadata": {
        "id": "IqASGxyEZvAx"
      },
      "execution_count": null,
      "outputs": []
    },
    {
      "cell_type": "markdown",
      "source": [
        "Menghitung rata-rata kerugian akibat kebakaran di Pasar Rebo pada bulan Juni dan Juli."
      ],
      "metadata": {
        "id": "XzeAEwdnZxqx"
      }
    },
    {
      "cell_type": "code",
      "source": [
        "print(\"9. Hitung rata-rata kerugian akibat kebakaran di bulan Juni dan Juli, di Pasar Rebo:\")\n",
        "rata_rata_kerugian_juni_juli_pasar_rebo = df[(df['tanggal'].apply(lambda x: pd.to_datetime(x).month in [6, 7])) & (df['kelurahan'] == 'Pasar Rebo')]['kerugian'].mean()\n",
        "print(f\"Rata-rata kerugian akibat kebakaran di Pasar Rebo pada bulan Juni dan Juli: {rata_rata_kerugian_juni_juli_pasar_rebo}\")\n",
        "print()"
      ],
      "metadata": {
        "id": "l5pa1rh0Z89w"
      },
      "execution_count": null,
      "outputs": []
    },
    {
      "cell_type": "markdown",
      "source": [
        "Menampilkan nilai kerugian paling besar dari kejadian kebakaran per kelurahan menggunakan fungsi max."
      ],
      "metadata": {
        "id": "GlrLXdxiaCix"
      }
    },
    {
      "cell_type": "code",
      "source": [
        "print(\"10. Menggunakan fungsi max, tampilkan nilai kerugian paling besar dari kejadian kebakaran per kelurahan:\")\n",
        "max_kerugian_per_kelurahan = df.groupby('kelurahan')['kerugian'].max().reset_index(name='max_kerugian')\n",
        "print(max_kerugian_per_kelurahan)\n",
        "print()"
      ],
      "metadata": {
        "id": "nBQV8YuuaJsC"
      },
      "execution_count": null,
      "outputs": []
    }
  ]
}